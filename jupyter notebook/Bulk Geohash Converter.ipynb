{
 "cells": [
  {
   "cell_type": "code",
   "execution_count": 1,
   "id": "17a64a78",
   "metadata": {},
   "outputs": [],
   "source": [
    "from polygeohasher import polygeohasher\n",
    "import geopandas as gpd\n",
    "import pandas as pd"
   ]
  },
  {
   "cell_type": "code",
   "execution_count": 11,
   "id": "0c4d6d5d",
   "metadata": {},
   "outputs": [],
   "source": [
    "gdf = gpd.read_file(r\"C:\\Users\\mahardi.pratomo\\Documents\\BULK GEOHASH CREATION\\Geojson\\I_GUSTI_NGURAH_RAI_B.geojson\")"
   ]
  },
  {
   "cell_type": "code",
   "execution_count": 12,
   "id": "ab80a67a",
   "metadata": {},
   "outputs": [],
   "source": [
    "geohash_gdf = polygeohasher.create_geohash_list(gdf, 7,inner=False)"
   ]
  },
  {
   "cell_type": "code",
   "execution_count": 13,
   "id": "1beb2d8a",
   "metadata": {},
   "outputs": [
    {
     "name": "stdout",
     "output_type": "stream",
     "text": [
      "                   Name                                       geohash_list\n",
      "0  I_GUSTI_NGURAH_RAI_B  [qw3yhxz, qw3yhz7, qw3yhwy, qw3yhz0, qw3yhy9, ...\n"
     ]
    }
   ],
   "source": [
    "print(geohash_gdf)"
   ]
  },
  {
   "cell_type": "code",
   "execution_count": 14,
   "id": "02f9013f",
   "metadata": {},
   "outputs": [
    {
     "name": "stderr",
     "output_type": "stream",
     "text": [
      "C:\\ProgramData\\Anaconda3\\lib\\site-packages\\polygon_geohasher\\polygon_geohasher.py:56: ShapelyDeprecationWarning: The 'cascaded_union()' function is deprecated. Use 'unary_union()' instead.\n",
      "  return cascaded_union([geohash_to_polygon(g) for g in geohashes])\n"
     ]
    }
   ],
   "source": [
    "geohash_gdf_list = polygeohasher.geohashes_to_geometry(geohash_gdf,\"geohash_list\")"
   ]
  },
  {
   "cell_type": "code",
   "execution_count": 15,
   "id": "75ef6bf7",
   "metadata": {},
   "outputs": [
    {
     "name": "stdout",
     "output_type": "stream",
     "text": [
      "                    Name geohash_list  \\\n",
      "0   I_GUSTI_NGURAH_RAI_B      qw3yhxz   \n",
      "0   I_GUSTI_NGURAH_RAI_B      qw3yhz7   \n",
      "0   I_GUSTI_NGURAH_RAI_B      qw3yhwy   \n",
      "0   I_GUSTI_NGURAH_RAI_B      qw3yhz0   \n",
      "0   I_GUSTI_NGURAH_RAI_B      qw3yhy9   \n",
      "..                   ...          ...   \n",
      "0   I_GUSTI_NGURAH_RAI_B      qw3yjpb   \n",
      "0   I_GUSTI_NGURAH_RAI_B      qw3ykb0   \n",
      "0   I_GUSTI_NGURAH_RAI_B      qw3yhz2   \n",
      "0   I_GUSTI_NGURAH_RAI_B      qw3yk8y   \n",
      "0   I_GUSTI_NGURAH_RAI_B      qw3yhzj   \n",
      "\n",
      "                                             geometry  \n",
      "0   POLYGON ((115.16830 -8.74649, 115.16968 -8.746...  \n",
      "0   POLYGON ((115.17380 -8.74924, 115.17517 -8.749...  \n",
      "0   POLYGON ((115.16693 -8.75198, 115.16830 -8.751...  \n",
      "0   POLYGON ((115.16968 -8.75061, 115.17105 -8.750...  \n",
      "0   POLYGON ((115.17105 -8.75336, 115.17242 -8.753...  \n",
      "..                                                ...  \n",
      "0   POLYGON ((115.18066 -8.74649, 115.18204 -8.746...  \n",
      "0   POLYGON ((115.16968 -8.74512, 115.17105 -8.745...  \n",
      "0   POLYGON ((115.16968 -8.74924, 115.17105 -8.749...  \n",
      "0   POLYGON ((115.16693 -8.74100, 115.16830 -8.741...  \n",
      "0   POLYGON ((115.17654 -8.75061, 115.17792 -8.750...  \n",
      "\n",
      "[80 rows x 3 columns]\n"
     ]
    }
   ],
   "source": [
    "print(geohash_gdf_list)"
   ]
  },
  {
   "cell_type": "code",
   "execution_count": 16,
   "id": "a0df9f0d",
   "metadata": {},
   "outputs": [],
   "source": [
    "geohash_gdf_list.to_file(r\"C:\\Users\\mahardi.pratomo\\Documents\\BULK GEOHASH CREATION\\Geojson\\Geohash_7_I_GUSTI_NGURAH_RAI_B.geojson\",driver = \"GeoJSON\")"
   ]
  },
  {
   "cell_type": "code",
   "execution_count": 17,
   "id": "70f15c0c",
   "metadata": {},
   "outputs": [],
   "source": [
    "Geohash_DF = pd.DataFrame(geohash_gdf_list)"
   ]
  },
  {
   "cell_type": "code",
   "execution_count": 18,
   "id": "88241f86",
   "metadata": {},
   "outputs": [],
   "source": [
    "Geohash_DF.to_csv(r\"C:\\Users\\mahardi.pratomo\\Documents\\BULK GEOHASH CREATION\\CSV\\Geohash_7_I_GUSTI_NGURAH_RAI_B.csv\")"
   ]
  },
  {
   "cell_type": "code",
   "execution_count": null,
   "id": "92b971c2",
   "metadata": {},
   "outputs": [],
   "source": []
  },
  {
   "cell_type": "code",
   "execution_count": null,
   "id": "cfce2568",
   "metadata": {},
   "outputs": [],
   "source": []
  },
  {
   "cell_type": "code",
   "execution_count": null,
   "id": "37dd9970",
   "metadata": {},
   "outputs": [],
   "source": []
  },
  {
   "cell_type": "code",
   "execution_count": null,
   "id": "efacd52d",
   "metadata": {},
   "outputs": [],
   "source": []
  },
  {
   "cell_type": "code",
   "execution_count": null,
   "id": "b9b1ea54",
   "metadata": {},
   "outputs": [],
   "source": []
  },
  {
   "cell_type": "code",
   "execution_count": null,
   "id": "c2f206fa",
   "metadata": {},
   "outputs": [],
   "source": []
  },
  {
   "cell_type": "code",
   "execution_count": null,
   "id": "231bea5c",
   "metadata": {},
   "outputs": [],
   "source": []
  },
  {
   "cell_type": "code",
   "execution_count": null,
   "id": "b71ed704",
   "metadata": {},
   "outputs": [],
   "source": []
  },
  {
   "cell_type": "code",
   "execution_count": null,
   "id": "8bf45816",
   "metadata": {},
   "outputs": [],
   "source": []
  }
 ],
 "metadata": {
  "kernelspec": {
   "display_name": "Python 3 (ipykernel)",
   "language": "python",
   "name": "python3"
  },
  "language_info": {
   "codemirror_mode": {
    "name": "ipython",
    "version": 3
   },
   "file_extension": ".py",
   "mimetype": "text/x-python",
   "name": "python",
   "nbconvert_exporter": "python",
   "pygments_lexer": "ipython3",
   "version": "3.9.16"
  },
  "varInspector": {
   "cols": {
    "lenName": 16,
    "lenType": 16,
    "lenVar": 40
   },
   "kernels_config": {
    "python": {
     "delete_cmd_postfix": "",
     "delete_cmd_prefix": "del ",
     "library": "var_list.py",
     "varRefreshCmd": "print(var_dic_list())"
    },
    "r": {
     "delete_cmd_postfix": ") ",
     "delete_cmd_prefix": "rm(",
     "library": "var_list.r",
     "varRefreshCmd": "cat(var_dic_list()) "
    }
   },
   "types_to_exclude": [
    "module",
    "function",
    "builtin_function_or_method",
    "instance",
    "_Feature"
   ],
   "window_display": false
  }
 },
 "nbformat": 4,
 "nbformat_minor": 5
}
