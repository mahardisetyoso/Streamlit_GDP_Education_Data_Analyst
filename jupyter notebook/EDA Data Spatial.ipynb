{
 "cells": [
  {
   "cell_type": "code",
   "execution_count": 1,
   "id": "df7dad99",
   "metadata": {},
   "outputs": [],
   "source": [
    "import pandas as pd\n",
    "import geopandas as gpd\n",
    "from fuzzywuzzy import process"
   ]
  },
  {
   "cell_type": "code",
   "execution_count": 2,
   "id": "a8b91d2b",
   "metadata": {},
   "outputs": [],
   "source": [
    "df = pd.read_csv('data/data_macroeconomy.csv')"
   ]
  },
  {
   "cell_type": "code",
   "execution_count": 4,
   "id": "a397a3fe",
   "metadata": {},
   "outputs": [
    {
     "data": {
      "text/html": [
       "<div>\n",
       "<style scoped>\n",
       "    .dataframe tbody tr th:only-of-type {\n",
       "        vertical-align: middle;\n",
       "    }\n",
       "\n",
       "    .dataframe tbody tr th {\n",
       "        vertical-align: top;\n",
       "    }\n",
       "\n",
       "    .dataframe thead th {\n",
       "        text-align: right;\n",
       "    }\n",
       "</style>\n",
       "<table border=\"1\" class=\"dataframe\">\n",
       "  <thead>\n",
       "    <tr style=\"text-align: right;\">\n",
       "      <th></th>\n",
       "      <th>Kab/Kota</th>\n",
       "      <th>Tahun</th>\n",
       "      <th>Regional GDP (IDR Bil)</th>\n",
       "      <th>Regional GDP per Capita</th>\n",
       "    </tr>\n",
       "  </thead>\n",
       "  <tbody>\n",
       "    <tr>\n",
       "      <th>0</th>\n",
       "      <td>SIMEULUE</td>\n",
       "      <td>2022</td>\n",
       "      <td>1,410.00</td>\n",
       "      <td>14,960,053.00</td>\n",
       "    </tr>\n",
       "    <tr>\n",
       "      <th>1</th>\n",
       "      <td>ACEH SINGKIL</td>\n",
       "      <td>2022</td>\n",
       "      <td>1,539.00</td>\n",
       "      <td>11,908,999.00</td>\n",
       "    </tr>\n",
       "    <tr>\n",
       "      <th>2</th>\n",
       "      <td>ACEH SELATAN</td>\n",
       "      <td>2022</td>\n",
       "      <td>3,743.00</td>\n",
       "      <td>15,838,559.00</td>\n",
       "    </tr>\n",
       "    <tr>\n",
       "      <th>3</th>\n",
       "      <td>ACEH TENGGARA</td>\n",
       "      <td>2022</td>\n",
       "      <td>3,054.00</td>\n",
       "      <td>13,436,165.00</td>\n",
       "    </tr>\n",
       "    <tr>\n",
       "      <th>4</th>\n",
       "      <td>ACEH TIMUR</td>\n",
       "      <td>2022</td>\n",
       "      <td>7,162.00</td>\n",
       "      <td>16,710,999.00</td>\n",
       "    </tr>\n",
       "  </tbody>\n",
       "</table>\n",
       "</div>"
      ],
      "text/plain": [
       "        Kab/Kota  Tahun Regional GDP (IDR Bil) Regional GDP per Capita\n",
       "0       SIMEULUE   2022               1,410.00           14,960,053.00\n",
       "1   ACEH SINGKIL   2022               1,539.00           11,908,999.00\n",
       "2   ACEH SELATAN   2022               3,743.00           15,838,559.00\n",
       "3  ACEH TENGGARA   2022               3,054.00           13,436,165.00\n",
       "4     ACEH TIMUR   2022               7,162.00           16,710,999.00"
      ]
     },
     "execution_count": 4,
     "metadata": {},
     "output_type": "execute_result"
    }
   ],
   "source": [
    "df.head()"
   ]
  },
  {
   "cell_type": "code",
   "execution_count": 11,
   "id": "d667042a",
   "metadata": {},
   "outputs": [],
   "source": [
    "df['Regional GDP (IDR Bil)'] = df['Regional GDP (IDR Bil)'].str.replace(',', '', regex=False).astype(float).astype(int)\n",
    "df['Regional GDP per Capita'] = df['Regional GDP per Capita'].str.replace(',', '', regex=False).astype(float).astype(int)"
   ]
  },
  {
   "cell_type": "code",
   "execution_count": 12,
   "id": "e8288715",
   "metadata": {},
   "outputs": [
    {
     "data": {
      "text/plain": [
       "Kab/Kota                   object\n",
       "Tahun                       int64\n",
       "Regional GDP (IDR Bil)      int32\n",
       "Regional GDP per Capita     int32\n",
       "dtype: object"
      ]
     },
     "execution_count": 12,
     "metadata": {},
     "output_type": "execute_result"
    }
   ],
   "source": [
    "df.dtypes"
   ]
  },
  {
   "cell_type": "code",
   "execution_count": 13,
   "id": "dfbbea6e",
   "metadata": {},
   "outputs": [],
   "source": [
    "df['Kab/Kota'] = df['Kab/Kota'].str.upper()"
   ]
  },
  {
   "cell_type": "code",
   "execution_count": 14,
   "id": "216bace9",
   "metadata": {},
   "outputs": [],
   "source": [
    "# Baca geojson\n",
    "gdf = gpd.read_file('data/indonesia.geojson')"
   ]
  },
  {
   "cell_type": "code",
   "execution_count": 15,
   "id": "bc4e0a12",
   "metadata": {},
   "outputs": [],
   "source": [
    "gdf['state'] = gdf['state'].str.upper()"
   ]
  },
  {
   "cell_type": "code",
   "execution_count": 16,
   "id": "d824b1b5",
   "metadata": {},
   "outputs": [],
   "source": [
    "nama_geo = list(gdf['state'].unique())"
   ]
  },
  {
   "cell_type": "code",
   "execution_count": 17,
   "id": "01655a6e",
   "metadata": {},
   "outputs": [],
   "source": [
    "mapping = {kab: process.extractOne(kab, nama_geo)[0] for kab in df['Kab/Kota'].unique()}"
   ]
  },
  {
   "cell_type": "code",
   "execution_count": 18,
   "id": "355434f8",
   "metadata": {},
   "outputs": [],
   "source": [
    "df['geo_name'] = df['Kab/Kota'].map(mapping)"
   ]
  },
  {
   "cell_type": "code",
   "execution_count": 19,
   "id": "fd462177",
   "metadata": {},
   "outputs": [],
   "source": [
    "# Filter untuk tahun 2022\n",
    "df2022 = df[df['Tahun']==2022]\n",
    "merged = gdf.merge(df2022, left_on='state', right_on='geo_name')\n",
    "merged.to_file('data/merged_2022.geojson', driver='GeoJSON')"
   ]
  },
  {
   "cell_type": "code",
   "execution_count": 20,
   "id": "9dcac0ed",
   "metadata": {},
   "outputs": [],
   "source": [
    "gdf_1 = gpd.read_file('data/merged_2022.geojson')"
   ]
  },
  {
   "cell_type": "code",
   "execution_count": 21,
   "id": "4aa46d39",
   "metadata": {},
   "outputs": [
    {
     "data": {
      "text/html": [
       "<div>\n",
       "<style scoped>\n",
       "    .dataframe tbody tr th:only-of-type {\n",
       "        vertical-align: middle;\n",
       "    }\n",
       "\n",
       "    .dataframe tbody tr th {\n",
       "        vertical-align: top;\n",
       "    }\n",
       "\n",
       "    .dataframe thead th {\n",
       "        text-align: right;\n",
       "    }\n",
       "</style>\n",
       "<table border=\"1\" class=\"dataframe\">\n",
       "  <thead>\n",
       "    <tr style=\"text-align: right;\">\n",
       "      <th></th>\n",
       "      <th>cartodb_id</th>\n",
       "      <th>country</th>\n",
       "      <th>id_1</th>\n",
       "      <th>slug</th>\n",
       "      <th>state</th>\n",
       "      <th>Kab/Kota</th>\n",
       "      <th>Tahun</th>\n",
       "      <th>Regional GDP (IDR Bil)</th>\n",
       "      <th>Regional GDP per Capita</th>\n",
       "      <th>geo_name</th>\n",
       "      <th>geometry</th>\n",
       "    </tr>\n",
       "  </thead>\n",
       "  <tbody>\n",
       "    <tr>\n",
       "      <th>0</th>\n",
       "      <td>16</td>\n",
       "      <td>Indonesia</td>\n",
       "      <td>1</td>\n",
       "      <td>indonesia-aceh</td>\n",
       "      <td>ACEH</td>\n",
       "      <td>ACEH SINGKIL</td>\n",
       "      <td>2022</td>\n",
       "      <td>1539</td>\n",
       "      <td>11908999</td>\n",
       "      <td>ACEH</td>\n",
       "      <td>MULTIPOLYGON (((97.97681 4.62750, 98.00173 4.6...</td>\n",
       "    </tr>\n",
       "    <tr>\n",
       "      <th>1</th>\n",
       "      <td>16</td>\n",
       "      <td>Indonesia</td>\n",
       "      <td>1</td>\n",
       "      <td>indonesia-aceh</td>\n",
       "      <td>ACEH</td>\n",
       "      <td>ACEH SELATAN</td>\n",
       "      <td>2022</td>\n",
       "      <td>3743</td>\n",
       "      <td>15838559</td>\n",
       "      <td>ACEH</td>\n",
       "      <td>MULTIPOLYGON (((97.97681 4.62750, 98.00173 4.6...</td>\n",
       "    </tr>\n",
       "    <tr>\n",
       "      <th>2</th>\n",
       "      <td>16</td>\n",
       "      <td>Indonesia</td>\n",
       "      <td>1</td>\n",
       "      <td>indonesia-aceh</td>\n",
       "      <td>ACEH</td>\n",
       "      <td>ACEH TENGGARA</td>\n",
       "      <td>2022</td>\n",
       "      <td>3054</td>\n",
       "      <td>13436165</td>\n",
       "      <td>ACEH</td>\n",
       "      <td>MULTIPOLYGON (((97.97681 4.62750, 98.00173 4.6...</td>\n",
       "    </tr>\n",
       "    <tr>\n",
       "      <th>3</th>\n",
       "      <td>16</td>\n",
       "      <td>Indonesia</td>\n",
       "      <td>1</td>\n",
       "      <td>indonesia-aceh</td>\n",
       "      <td>ACEH</td>\n",
       "      <td>ACEH TIMUR</td>\n",
       "      <td>2022</td>\n",
       "      <td>7162</td>\n",
       "      <td>16710999</td>\n",
       "      <td>ACEH</td>\n",
       "      <td>MULTIPOLYGON (((97.97681 4.62750, 98.00173 4.6...</td>\n",
       "    </tr>\n",
       "    <tr>\n",
       "      <th>4</th>\n",
       "      <td>16</td>\n",
       "      <td>Indonesia</td>\n",
       "      <td>1</td>\n",
       "      <td>indonesia-aceh</td>\n",
       "      <td>ACEH</td>\n",
       "      <td>ACEH TENGAH</td>\n",
       "      <td>2022</td>\n",
       "      <td>5174</td>\n",
       "      <td>23631614</td>\n",
       "      <td>ACEH</td>\n",
       "      <td>MULTIPOLYGON (((97.97681 4.62750, 98.00173 4.6...</td>\n",
       "    </tr>\n",
       "  </tbody>\n",
       "</table>\n",
       "</div>"
      ],
      "text/plain": [
       "   cartodb_id    country  id_1            slug state       Kab/Kota  Tahun  \\\n",
       "0          16  Indonesia     1  indonesia-aceh  ACEH   ACEH SINGKIL   2022   \n",
       "1          16  Indonesia     1  indonesia-aceh  ACEH   ACEH SELATAN   2022   \n",
       "2          16  Indonesia     1  indonesia-aceh  ACEH  ACEH TENGGARA   2022   \n",
       "3          16  Indonesia     1  indonesia-aceh  ACEH     ACEH TIMUR   2022   \n",
       "4          16  Indonesia     1  indonesia-aceh  ACEH    ACEH TENGAH   2022   \n",
       "\n",
       "   Regional GDP (IDR Bil)  Regional GDP per Capita geo_name  \\\n",
       "0                    1539                 11908999     ACEH   \n",
       "1                    3743                 15838559     ACEH   \n",
       "2                    3054                 13436165     ACEH   \n",
       "3                    7162                 16710999     ACEH   \n",
       "4                    5174                 23631614     ACEH   \n",
       "\n",
       "                                            geometry  \n",
       "0  MULTIPOLYGON (((97.97681 4.62750, 98.00173 4.6...  \n",
       "1  MULTIPOLYGON (((97.97681 4.62750, 98.00173 4.6...  \n",
       "2  MULTIPOLYGON (((97.97681 4.62750, 98.00173 4.6...  \n",
       "3  MULTIPOLYGON (((97.97681 4.62750, 98.00173 4.6...  \n",
       "4  MULTIPOLYGON (((97.97681 4.62750, 98.00173 4.6...  "
      ]
     },
     "execution_count": 21,
     "metadata": {},
     "output_type": "execute_result"
    }
   ],
   "source": [
    "gdf_1.head()"
   ]
  },
  {
   "cell_type": "code",
   "execution_count": 23,
   "id": "1fe44a92",
   "metadata": {},
   "outputs": [
    {
     "data": {
      "text/plain": [
       "cartodb_id                    int64\n",
       "country                      object\n",
       "id_1                          int64\n",
       "slug                         object\n",
       "state                        object\n",
       "Kab/Kota                     object\n",
       "Tahun                         int64\n",
       "Regional GDP (IDR Bil)        int64\n",
       "Regional GDP per Capita       int64\n",
       "geo_name                     object\n",
       "geometry                   geometry\n",
       "dtype: object"
      ]
     },
     "execution_count": 23,
     "metadata": {},
     "output_type": "execute_result"
    }
   ],
   "source": [
    "gdf_1.dtypes"
   ]
  },
  {
   "cell_type": "code",
   "execution_count": null,
   "id": "4e4870bb",
   "metadata": {},
   "outputs": [],
   "source": []
  }
 ],
 "metadata": {
  "kernelspec": {
   "display_name": "Python 3 (ipykernel)",
   "language": "python",
   "name": "python3"
  },
  "language_info": {
   "codemirror_mode": {
    "name": "ipython",
    "version": 3
   },
   "file_extension": ".py",
   "mimetype": "text/x-python",
   "name": "python",
   "nbconvert_exporter": "python",
   "pygments_lexer": "ipython3",
   "version": "3.7.12"
  }
 },
 "nbformat": 4,
 "nbformat_minor": 5
}
